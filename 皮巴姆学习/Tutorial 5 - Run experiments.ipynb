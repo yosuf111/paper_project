{
 "cells": [
  {
   "cell_type": "markdown",
   "metadata": {},
   "source": [
    "# Tutorial 5 - Run experiments"
   ]
  },
  {
   "cell_type": "markdown",
   "metadata": {},
   "source": [
    "在教程 4 中，我们看到了如何更改参数，包括施加的电流。 但是，在某些情况下，我们可能希望指定给定电压、给定功率或在不同条件之间切换以模拟实验设置。 我们可以使用 Experiment 类进行这些模拟。"
   ]
  },
  {
   "cell_type": "code",
   "execution_count": 13,
   "metadata": {},
   "outputs": [],
   "source": [
    "import pybamm\n",
    "import os\n",
    "os.chdir(pybamm.__path__[0]+'/..')"
   ]
  },
  {
   "cell_type": "markdown",
   "metadata": {},
   "source": [
    "我们开始定义一个实验，其中包括一组关于如何循环电池的说明。 例如，我们可以设置如下实验："
   ]
  },
  {
   "cell_type": "code",
   "execution_count": 14,
   "metadata": {},
   "outputs": [],
   "source": [
    "experiment = pybamm.Experiment(\n",
    "    [\n",
    "        (\"Discharge at C/10 for 10 hours or until 2.5 V\",\n",
    "        \"Rest for 1 hour\",\n",
    "        \"Charge at 1 A until 4.1 V\",\n",
    "        \"Hold at 4.1 V until 50 mA\",\n",
    "        \"Rest for 1 hour\"),\n",
    "    ] * 3\n",
    ")"
   ]
  },
  {
   "cell_type": "markdown",
   "metadata": {},
   "source": [
    "一个循环由一组操作指令定义。 在这种情况下，实验包括一个循环的恒流 C/10 放电、一小时的休息、一个恒流 (1 A) 恒压 (4.1 V) 和另外一小时的休息，所有这些都重复 3 次（注意 * 3)."
   ]
  },
  {
   "cell_type": "markdown",
   "metadata": {},
   "source": [
    "然后我们可以选择我们的模型"
   ]
  },
  {
   "cell_type": "code",
   "execution_count": 15,
   "metadata": {},
   "outputs": [],
   "source": [
    "model = pybamm.lithium_ion.DFN()"
   ]
  },
  {
   "cell_type": "markdown",
   "metadata": {},
   "source": [
    "并创建我们的模拟，使用关键字参数通过我们的实验"
   ]
  },
  {
   "cell_type": "code",
   "execution_count": 16,
   "metadata": {},
   "outputs": [],
   "source": [
    "chemistry = pybamm.parameter_sets.Chen2020\n",
    "\n",
    "parameter_values = pybamm.ParameterValues(chemistry=chemistry)"
   ]
  },
  {
   "cell_type": "code",
   "execution_count": 17,
   "metadata": {},
   "outputs": [],
   "source": [
    "sim = pybamm.Simulation(model, parameter_values= parameter_values, experiment=experiment)"
   ]
  },
  {
   "cell_type": "markdown",
   "metadata": {},
   "source": [
    "然后我们解决并绘制解决方案"
   ]
  },
  {
   "cell_type": "code",
   "execution_count": 18,
   "metadata": {},
   "outputs": [
    {
     "data": {
      "application/vnd.jupyter.widget-view+json": {
       "model_id": "b85d35575d2845aba136f69218541fc5",
       "version_major": 2,
       "version_minor": 0
      },
      "text/plain": [
       "interactive(children=(FloatSlider(value=0.0, description='t', max=54.20564393211796, step=0.5420564393211795),…"
      ]
     },
     "metadata": {},
     "output_type": "display_data"
    },
    {
     "data": {
      "text/plain": [
       "<pybamm.plotting.quick_plot.QuickPlot at 0x175b1002ca0>"
      ]
     },
     "execution_count": 18,
     "metadata": {},
     "output_type": "execute_result"
    }
   ],
   "source": [
    "sim.solve()\n",
    "output_variables = [\"Terminal voltage [V]\", \"Current [A]\"]\n",
    "sim.plot(output_variables=output_variables)"
   ]
  }
 ],
 "metadata": {
  "interpreter": {
   "hash": "9b04a640c22d8bcecd319ad1f5e650d2be704cc4469a07968663054afe80c9a6"
  },
  "kernelspec": {
   "display_name": "Python 3.9.10 64-bit",
   "language": "python",
   "name": "python3"
  },
  "language_info": {
   "codemirror_mode": {
    "name": "ipython",
    "version": 3
   },
   "file_extension": ".py",
   "mimetype": "text/x-python",
   "name": "python",
   "nbconvert_exporter": "python",
   "pygments_lexer": "ipython3",
   "version": "3.9.10"
  },
  "orig_nbformat": 4
 },
 "nbformat": 4,
 "nbformat_minor": 2
}
