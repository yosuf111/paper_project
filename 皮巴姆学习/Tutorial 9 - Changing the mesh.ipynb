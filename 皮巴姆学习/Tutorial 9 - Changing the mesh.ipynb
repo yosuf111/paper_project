{
 "cells": [
  {
   "cell_type": "markdown",
   "metadata": {},
   "source": [
    "# Tutorial 9 - Changing the mesh"
   ]
  },
  {
   "cell_type": "markdown",
   "metadata": {},
   "source": [
    "在教程8中，我们了解了如何更改解算器选项。在本教程中，我们将更改模拟中使用的网格，并演示如何研究网格对解决方案的影响。"
   ]
  },
  {
   "cell_type": "markdown",
   "metadata": {},
   "source": [
    "PyBaMM中的所有模型都具有模拟中使用的默认网格点数量。但是，根据模拟的操作条件或使用的参数等情况，您可能会发现需要增加网格中的点数以获得准确的解。另一方面，您可能会发现，您能够减少网格点的数量，并且仍然能够以可接受的精度获得解决方案，但计算时间更短。"
   ]
  },
  {
   "cell_type": "markdown",
   "metadata": {},
   "source": [
    "进行网格优化研究始终是一种很好的做法，您可以使用更精细的网格模拟相同的问题并比较结果。这里将以图形方式显示如何进行此操作，但在实践中，您可能希望对相对误差进行更详细的计算。"
   ]
  },
  {
   "cell_type": "code",
   "execution_count": 1,
   "metadata": {},
   "outputs": [],
   "source": [
    "import pybamm"
   ]
  },
  {
   "cell_type": "markdown",
   "metadata": {},
   "source": [
    "## 更改网格中的点数。"
   ]
  },
  {
   "cell_type": "markdown",
   "metadata": {},
   "source": [
    "首先，我们加载一个模型"
   ]
  },
  {
   "cell_type": "code",
   "execution_count": 2,
   "metadata": {},
   "outputs": [],
   "source": [
    "model = pybamm.lithium_ion.SPMe()"
   ]
  },
  {
   "cell_type": "markdown",
   "metadata": {},
   "source": [
    "然后我们可以查看默认点数，这些点数存储为字典，字典的键是每个域的变量。"
   ]
  },
  {
   "cell_type": "code",
   "execution_count": 3,
   "metadata": {},
   "outputs": [
    {
     "data": {
      "text/plain": [
       "{'x_n': 20,\n",
       " 'x_s': 20,\n",
       " 'x_p': 20,\n",
       " 'r_n': 20,\n",
       " 'r_p': 20,\n",
       " 'y': 10,\n",
       " 'z': 10,\n",
       " 'R_n': 30,\n",
       " 'R_p': 30}"
      ]
     },
     "execution_count": 3,
     "metadata": {},
     "output_type": "execute_result"
    }
   ],
   "source": [
    "model.default_var_pts"
   ]
  },
  {
   "cell_type": "markdown",
   "metadata": {},
   "source": [
    "要使用不同数量的点运行模拟，我们可以定义自己的字典"
   ]
  },
  {
   "cell_type": "code",
   "execution_count": 4,
   "metadata": {},
   "outputs": [],
   "source": [
    "# get the spatial variables used in pybamm\n",
    "var = pybamm.standard_spatial_vars  \n",
    "\n",
    "# create our dictionary \n",
    "var_pts = {\n",
    "    var.x_n: 10,  # negative electrode\n",
    "    var.x_s: 10,  # separator \n",
    "    var.x_p: 10,  # positive electrode\n",
    "    var.r_n: 10,  # negative particle\n",
    "    var.r_p: 10,  # positive particle\n",
    "}"
   ]
  },
  {
   "cell_type": "markdown",
   "metadata": {},
   "source": [
    "然后，我们创建并解决一个模拟，将点字典作为关键字参数传递"
   ]
  },
  {
   "cell_type": "code",
   "execution_count": 5,
   "metadata": {},
   "outputs": [
    {
     "data": {
      "text/plain": [
       "<pybamm.solvers.solution.Solution at 0x1e18fb44be0>"
      ]
     },
     "execution_count": 5,
     "metadata": {},
     "output_type": "execute_result"
    }
   ],
   "source": [
    "sim = pybamm.Simulation(model, var_pts=var_pts)\n",
    "sim.solve([0, 3600])"
   ]
  },
  {
   "cell_type": "code",
   "execution_count": 6,
   "metadata": {},
   "outputs": [
    {
     "data": {
      "application/vnd.jupyter.widget-view+json": {
       "model_id": "a56447cc35dd4448b69ebe1064d65152",
       "version_major": 2,
       "version_minor": 0
      },
      "text/plain": [
       "interactive(children=(FloatSlider(value=0.0, description='t', max=1.0, step=0.01), Output()), _dom_classes=('w…"
      ]
     },
     "metadata": {},
     "output_type": "display_data"
    },
    {
     "data": {
      "text/plain": [
       "<pybamm.plotting.quick_plot.QuickPlot at 0x1e1edb9e100>"
      ]
     },
     "execution_count": 6,
     "metadata": {},
     "output_type": "execute_result"
    }
   ],
   "source": [
    "sim.plot()"
   ]
  },
  {
   "cell_type": "markdown",
   "metadata": {},
   "source": [
    "## 进行网格优化研究"
   ]
  },
  {
   "cell_type": "markdown",
   "metadata": {},
   "source": [
    "为了研究网格对解决方案的影响，我们必须多次求解模型，同时提高网格分辨率。我们首先创建一个列表，列出每个域要使用的点数"
   ]
  },
  {
   "cell_type": "code",
   "execution_count": 10,
   "metadata": {},
   "outputs": [],
   "source": [
    "npts = [4, 8, 16, 32, 64,128]"
   ]
  },
  {
   "cell_type": "markdown",
   "metadata": {},
   "source": [
    "现在我们可以在列表上循环，一边创建和求解仿真。解决方案存储在解决方案列表中"
   ]
  },
  {
   "cell_type": "code",
   "execution_count": 11,
   "metadata": {},
   "outputs": [],
   "source": [
    "#选择型号和参数\n",
    "model = pybamm.lithium_ion.DFN()\n",
    "chemistry = pybamm.parameter_sets.Ecker2015\n",
    "parameter_values = pybamm.ParameterValues(chemistry=chemistry)\n",
    "\n",
    "#选择解算器\n",
    "solver = pybamm.CasadiSolver(mode=\"fast\")\n",
    "\n",
    "#循环覆盖网格点的数量\n",
    "solutions = []\n",
    "for N in npts:\n",
    "    var_pts = {\n",
    "        var.x_n: N,  # negative electrode\n",
    "        var.x_s: N,  # separator \n",
    "        var.x_p: N,  # positive electrode\n",
    "        var.r_n: N,  # negative particle\n",
    "        var.r_p: N,  # positive particle\n",
    "    }    \n",
    "    sim = pybamm.Simulation(\n",
    "        model, solver=solver, parameter_values=parameter_values, var_pts=var_pts\n",
    "    )\n",
    "    sim.solve([0, 3600])\n",
    "    solutions.append(sim.solution)"
   ]
  },
  {
   "cell_type": "markdown",
   "metadata": {},
   "source": [
    "现在，我们可以将我们的解决方案列表传递给动态绘图方法，从而可以查看网格对计算的终端电压的影响。我们使用labels关键字传递点列表，以便使用模拟中使用的点的数量标记图"
   ]
  },
  {
   "cell_type": "code",
   "execution_count": 12,
   "metadata": {},
   "outputs": [
    {
     "data": {
      "application/vnd.jupyter.widget-view+json": {
       "model_id": "64508e32a1fc4815b659826a72f3a998",
       "version_major": 2,
       "version_minor": 0
      },
      "text/plain": [
       "interactive(children=(FloatSlider(value=0.0, description='t', max=3600.0, step=36.0), Output()), _dom_classes=…"
      ]
     },
     "metadata": {},
     "output_type": "display_data"
    },
    {
     "data": {
      "text/plain": [
       "<pybamm.plotting.quick_plot.QuickPlot at 0x1e196acca00>"
      ]
     },
     "execution_count": 12,
     "metadata": {},
     "output_type": "execute_result"
    }
   ],
   "source": [
    "pybamm.dynamic_plot(solutions, [\"Terminal voltage [V]\"], time_unit=\"seconds\", labels=npts)  "
   ]
  },
  {
   "cell_type": "code",
   "execution_count": null,
   "metadata": {},
   "outputs": [],
   "source": []
  }
 ],
 "metadata": {
  "interpreter": {
   "hash": "9b04a640c22d8bcecd319ad1f5e650d2be704cc4469a07968663054afe80c9a6"
  },
  "kernelspec": {
   "display_name": "Python 3.9.10 64-bit",
   "language": "python",
   "name": "python3"
  },
  "language_info": {
   "codemirror_mode": {
    "name": "ipython",
    "version": 3
   },
   "file_extension": ".py",
   "mimetype": "text/x-python",
   "name": "python",
   "nbconvert_exporter": "python",
   "pygments_lexer": "ipython3",
   "version": "3.9.10"
  },
  "orig_nbformat": 4
 },
 "nbformat": 4,
 "nbformat_minor": 2
}
