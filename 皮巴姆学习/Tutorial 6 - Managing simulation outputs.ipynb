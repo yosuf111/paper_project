{
 "cells": [
  {
   "cell_type": "markdown",
   "metadata": {},
   "source": [
    "# Tutorial 6 - Managing simulation outputs"
   ]
  },
  {
   "cell_type": "markdown",
   "metadata": {},
   "source": [
    "在之前的教程中，我们通过默认的动态图与模拟的输出进行了交互。 然而，通常我们需要访问输出数据来操作它或转移到另一个软件，这是本笔记本的主题。"
   ]
  },
  {
   "cell_type": "markdown",
   "metadata": {},
   "source": [
    "我们首先构建和解决我们的模型，如之前的笔记本所示："
   ]
  },
  {
   "cell_type": "code",
   "execution_count": 1,
   "metadata": {},
   "outputs": [
    {
     "data": {
      "text/plain": [
       "<pybamm.solvers.solution.Solution at 0x2592cceec10>"
      ]
     },
     "execution_count": 1,
     "metadata": {},
     "output_type": "execute_result"
    }
   ],
   "source": [
    "import pybamm\n",
    "model = pybamm.lithium_ion.SPMe()\n",
    "sim = pybamm.Simulation(model)\n",
    "sim.solve([0, 3600])"
   ]
  },
  {
   "cell_type": "markdown",
   "metadata": {},
   "source": [
    "## 访问解决方案变量"
   ]
  },
  {
   "cell_type": "markdown",
   "metadata": {},
   "source": [
    "我们现在可以直接访问求解的变量以可视化或创建我们自己的图。 我们首先提取解决方案对象："
   ]
  },
  {
   "cell_type": "code",
   "execution_count": 2,
   "metadata": {},
   "outputs": [],
   "source": [
    "solution = sim.solution"
   ]
  },
  {
   "cell_type": "markdown",
   "metadata": {},
   "source": [
    "现在我们可以创建一个后处理变量（有关所有可用变量的列表，请参见教程 3）"
   ]
  },
  {
   "cell_type": "code",
   "execution_count": 4,
   "metadata": {},
   "outputs": [],
   "source": [
    "t = solution[\"Time [s]\"]\n",
    "V = solution[\"Terminal voltage [V]\"]"
   ]
  },
  {
   "cell_type": "markdown",
   "metadata": {},
   "source": [
    "一种选择是直接可视化求解器返回的数据集"
   ]
  },
  {
   "cell_type": "code",
   "execution_count": 5,
   "metadata": {},
   "outputs": [
    {
     "data": {
      "text/plain": [
       "array([3.77048098, 3.75309741, 3.74569854, 3.74040914, 3.7358298 ,\n",
       "       3.73155033, 3.72743975, 3.72345497, 3.71958204, 3.71581789,\n",
       "       3.7121626 , 3.70861711, 3.70518257, 3.7018597 , 3.69864856,\n",
       "       3.69554865, 3.69255891, 3.68967776, 3.68690318, 3.68423278,\n",
       "       3.68166381, 3.67919325, 3.6768178 , 3.67453392, 3.67233781,\n",
       "       3.67022539, 3.66819223, 3.66623351, 3.66434381, 3.66251696,\n",
       "       3.66074573, 3.65902138, 3.65733307, 3.65566713, 3.65400598,\n",
       "       3.65232692, 3.65060066, 3.64879009, 3.6468495 , 3.64472565,\n",
       "       3.64236193, 3.63970736, 3.63673134, 3.63344182, 3.62990002,\n",
       "       3.6262218 , 3.62255877, 3.61906367, 3.61585519, 3.61299816,\n",
       "       3.61050387, 3.60834443, 3.606471  , 3.60482875, 3.60336626,\n",
       "       3.60203992, 3.60081503, 3.59966526, 3.59857135, 3.59751971,\n",
       "       3.59650117, 3.59550991, 3.5945427 , 3.59359819, 3.59267642,\n",
       "       3.59177836, 3.59090554, 3.59005963, 3.58924206, 3.58845354,\n",
       "       3.58769357, 3.58695997, 3.58624824, 3.58555107, 3.58485775,\n",
       "       3.58415377, 3.58342038, 3.58263443, 3.58176816, 3.58078924,\n",
       "       3.57966066, 3.57834047, 3.57678111, 3.5749278 , 3.5727158 ,\n",
       "       3.57006554, 3.56687498, 3.56300791, 3.55827638, 3.55241506,\n",
       "       3.54504403, 3.53561554, 3.52333843, 3.50707265, 3.48518445,\n",
       "       3.45535424, 3.41433383, 3.35766633, 3.27941789, 3.17203867])"
      ]
     },
     "execution_count": 5,
     "metadata": {},
     "output_type": "execute_result"
    }
   ],
   "source": [
    "V.entries"
   ]
  },
  {
   "cell_type": "markdown",
   "metadata": {},
   "source": [
    "与当时的数据相对应"
   ]
  },
  {
   "cell_type": "code",
   "execution_count": 6,
   "metadata": {},
   "outputs": [
    {
     "data": {
      "text/plain": [
       "array([   0.        ,   36.36363636,   72.72727273,  109.09090909,\n",
       "        145.45454545,  181.81818182,  218.18181818,  254.54545455,\n",
       "        290.90909091,  327.27272727,  363.63636364,  400.        ,\n",
       "        436.36363636,  472.72727273,  509.09090909,  545.45454545,\n",
       "        581.81818182,  618.18181818,  654.54545455,  690.90909091,\n",
       "        727.27272727,  763.63636364,  800.        ,  836.36363636,\n",
       "        872.72727273,  909.09090909,  945.45454545,  981.81818182,\n",
       "       1018.18181818, 1054.54545455, 1090.90909091, 1127.27272727,\n",
       "       1163.63636364, 1200.        , 1236.36363636, 1272.72727273,\n",
       "       1309.09090909, 1345.45454545, 1381.81818182, 1418.18181818,\n",
       "       1454.54545455, 1490.90909091, 1527.27272727, 1563.63636364,\n",
       "       1600.        , 1636.36363636, 1672.72727273, 1709.09090909,\n",
       "       1745.45454545, 1781.81818182, 1818.18181818, 1854.54545455,\n",
       "       1890.90909091, 1927.27272727, 1963.63636364, 2000.        ,\n",
       "       2036.36363636, 2072.72727273, 2109.09090909, 2145.45454545,\n",
       "       2181.81818182, 2218.18181818, 2254.54545455, 2290.90909091,\n",
       "       2327.27272727, 2363.63636364, 2400.        , 2436.36363636,\n",
       "       2472.72727273, 2509.09090909, 2545.45454545, 2581.81818182,\n",
       "       2618.18181818, 2654.54545455, 2690.90909091, 2727.27272727,\n",
       "       2763.63636364, 2800.        , 2836.36363636, 2872.72727273,\n",
       "       2909.09090909, 2945.45454545, 2981.81818182, 3018.18181818,\n",
       "       3054.54545455, 3090.90909091, 3127.27272727, 3163.63636364,\n",
       "       3200.        , 3236.36363636, 3272.72727273, 3309.09090909,\n",
       "       3345.45454545, 3381.81818182, 3418.18181818, 3454.54545455,\n",
       "       3490.90909091, 3527.27272727, 3563.63636364, 3600.        ])"
      ]
     },
     "execution_count": 6,
     "metadata": {},
     "output_type": "execute_result"
    }
   ],
   "source": [
    "t.entries"
   ]
  },
  {
   "cell_type": "markdown",
   "metadata": {},
   "source": [
    "此外，可以随时调用后处理变量（通过插值）<br>\n",
    "通过插值法得到当前时间电压"
   ]
  },
  {
   "cell_type": "code",
   "execution_count": 9,
   "metadata": {},
   "outputs": [
    {
     "data": {
      "text/plain": [
       "array([3.72949504, 3.70861711, 3.67812429, 3.17203867])"
      ]
     },
     "execution_count": 9,
     "metadata": {},
     "output_type": "execute_result"
    }
   ],
   "source": [
    "V([200, 400, 780, 3600])  # times in seconds"
   ]
  },
  {
   "cell_type": "markdown",
   "metadata": {},
   "source": [
    "## 保存模拟和输出数据"
   ]
  },
  {
   "cell_type": "markdown",
   "metadata": {},
   "source": [
    "在某些情况下，模拟可能需要很长时间才能运行，因此建议将其保存在计算机中，以便以后可以进行分析，而无需重新运行模拟。可以通过以下操作保存整个模拟："
   ]
  },
  {
   "cell_type": "code",
   "execution_count": 10,
   "metadata": {},
   "outputs": [],
   "source": [
    "sim.save(\"SPMe.pkl\")"
   ]
  },
  {
   "cell_type": "markdown",
   "metadata": {},
   "source": [
    "如果您现在检查笔记本的根目录，您会注意到出现了一个名为“SPMe.pkl”的新文件。我们可以加载存储的模拟"
   ]
  },
  {
   "cell_type": "code",
   "execution_count": 11,
   "metadata": {},
   "outputs": [],
   "source": [
    "sim2 = pybamm.load(\"SPMe.pkl\")"
   ]
  },
  {
   "cell_type": "markdown",
   "metadata": {},
   "source": [
    "允许与原始模拟相同的操作"
   ]
  },
  {
   "cell_type": "code",
   "execution_count": 12,
   "metadata": {},
   "outputs": [
    {
     "data": {
      "application/vnd.jupyter.widget-view+json": {
       "model_id": "6340fe89e72f4279ae0b208f6cde4ed0",
       "version_major": 2,
       "version_minor": 0
      },
      "text/plain": [
       "interactive(children=(FloatSlider(value=0.0, description='t', max=1.0, step=0.01), Output()), _dom_classes=('w…"
      ]
     },
     "metadata": {},
     "output_type": "display_data"
    },
    {
     "data": {
      "text/plain": [
       "<pybamm.plotting.quick_plot.QuickPlot at 0x2592cf077c0>"
      ]
     },
     "execution_count": 12,
     "metadata": {},
     "output_type": "execute_result"
    }
   ],
   "source": [
    "sim2.plot()"
   ]
  },
  {
   "cell_type": "markdown",
   "metadata": {},
   "source": [
    "或者，我们可以用类似的方式保存模拟的解决方案"
   ]
  },
  {
   "cell_type": "code",
   "execution_count": 13,
   "metadata": {},
   "outputs": [],
   "source": [
    "sol = sim.solution\n",
    "sol.save(\"SPMe_sol.pkl\")"
   ]
  },
  {
   "cell_type": "markdown",
   "metadata": {},
   "source": [
    "并以类似的方式加载"
   ]
  },
  {
   "cell_type": "code",
   "execution_count": 14,
   "metadata": {},
   "outputs": [
    {
     "data": {
      "application/vnd.jupyter.widget-view+json": {
       "model_id": "d2c6551ff0914d7aaabb9c1d261e05aa",
       "version_major": 2,
       "version_minor": 0
      },
      "text/plain": [
       "interactive(children=(FloatSlider(value=0.0, description='t', max=1.0, step=0.01), Output()), _dom_classes=('w…"
      ]
     },
     "metadata": {},
     "output_type": "display_data"
    },
    {
     "data": {
      "text/plain": [
       "<pybamm.plotting.quick_plot.QuickPlot at 0x2590b10a370>"
      ]
     },
     "execution_count": 14,
     "metadata": {},
     "output_type": "execute_result"
    }
   ],
   "source": [
    "sol2 = pybamm.load(\"SPMe_sol.pkl\")\n",
    "pybamm.dynamic_plot(sol2)"
   ]
  },
  {
   "cell_type": "markdown",
   "metadata": {},
   "source": [
    "另一种选择是只保存一些变量的数据"
   ]
  },
  {
   "cell_type": "code",
   "execution_count": 15,
   "metadata": {},
   "outputs": [],
   "source": [
    "sol.save_data(\"sol_data.pkl\", [\"Current [A]\", \"Terminal voltage [V]\"])"
   ]
  },
  {
   "cell_type": "code",
   "execution_count": 16,
   "metadata": {},
   "outputs": [],
   "source": [
    "import pickle\n",
    "with open(\"sol_data.pkl\", \"rb\") as f:\n",
    "    data = pickle.load(f)\n",
    "    "
   ]
  },
  {
   "cell_type": "code",
   "execution_count": 17,
   "metadata": {},
   "outputs": [
    {
     "data": {
      "text/plain": [
       "{'Current [A]': array([0.680616, 0.680616, 0.680616, 0.680616, 0.680616, 0.680616,\n",
       "        0.680616, 0.680616, 0.680616, 0.680616, 0.680616, 0.680616,\n",
       "        0.680616, 0.680616, 0.680616, 0.680616, 0.680616, 0.680616,\n",
       "        0.680616, 0.680616, 0.680616, 0.680616, 0.680616, 0.680616,\n",
       "        0.680616, 0.680616, 0.680616, 0.680616, 0.680616, 0.680616,\n",
       "        0.680616, 0.680616, 0.680616, 0.680616, 0.680616, 0.680616,\n",
       "        0.680616, 0.680616, 0.680616, 0.680616, 0.680616, 0.680616,\n",
       "        0.680616, 0.680616, 0.680616, 0.680616, 0.680616, 0.680616,\n",
       "        0.680616, 0.680616, 0.680616, 0.680616, 0.680616, 0.680616,\n",
       "        0.680616, 0.680616, 0.680616, 0.680616, 0.680616, 0.680616,\n",
       "        0.680616, 0.680616, 0.680616, 0.680616, 0.680616, 0.680616,\n",
       "        0.680616, 0.680616, 0.680616, 0.680616, 0.680616, 0.680616,\n",
       "        0.680616, 0.680616, 0.680616, 0.680616, 0.680616, 0.680616,\n",
       "        0.680616, 0.680616, 0.680616, 0.680616, 0.680616, 0.680616,\n",
       "        0.680616, 0.680616, 0.680616, 0.680616, 0.680616, 0.680616,\n",
       "        0.680616, 0.680616, 0.680616, 0.680616, 0.680616, 0.680616,\n",
       "        0.680616, 0.680616, 0.680616, 0.680616]),\n",
       " 'Terminal voltage [V]': array([3.77048098, 3.75309741, 3.74569854, 3.74040914, 3.7358298 ,\n",
       "        3.73155033, 3.72743975, 3.72345497, 3.71958204, 3.71581789,\n",
       "        3.7121626 , 3.70861711, 3.70518257, 3.7018597 , 3.69864856,\n",
       "        3.69554865, 3.69255891, 3.68967776, 3.68690318, 3.68423278,\n",
       "        3.68166381, 3.67919325, 3.6768178 , 3.67453392, 3.67233781,\n",
       "        3.67022539, 3.66819223, 3.66623351, 3.66434381, 3.66251696,\n",
       "        3.66074573, 3.65902138, 3.65733307, 3.65566713, 3.65400598,\n",
       "        3.65232692, 3.65060066, 3.64879009, 3.6468495 , 3.64472565,\n",
       "        3.64236193, 3.63970736, 3.63673134, 3.63344182, 3.62990002,\n",
       "        3.6262218 , 3.62255877, 3.61906367, 3.61585519, 3.61299816,\n",
       "        3.61050387, 3.60834443, 3.606471  , 3.60482875, 3.60336626,\n",
       "        3.60203992, 3.60081503, 3.59966526, 3.59857135, 3.59751971,\n",
       "        3.59650117, 3.59550991, 3.5945427 , 3.59359819, 3.59267642,\n",
       "        3.59177836, 3.59090554, 3.59005963, 3.58924206, 3.58845354,\n",
       "        3.58769357, 3.58695997, 3.58624824, 3.58555107, 3.58485775,\n",
       "        3.58415377, 3.58342038, 3.58263443, 3.58176816, 3.58078924,\n",
       "        3.57966066, 3.57834047, 3.57678111, 3.5749278 , 3.5727158 ,\n",
       "        3.57006554, 3.56687498, 3.56300791, 3.55827638, 3.55241506,\n",
       "        3.54504403, 3.53561554, 3.52333843, 3.50707265, 3.48518445,\n",
       "        3.45535424, 3.41433383, 3.35766633, 3.27941789, 3.17203867])}"
      ]
     },
     "execution_count": 17,
     "metadata": {},
     "output_type": "execute_result"
    }
   ],
   "source": [
    "data"
   ]
  },
  {
   "cell_type": "markdown",
   "metadata": {},
   "source": [
    "或以csv或mat格式保存"
   ]
  },
  {
   "cell_type": "code",
   "execution_count": 18,
   "metadata": {},
   "outputs": [],
   "source": [
    "sol.save_data(\"sol_data.csv\", [\"Current [A]\", \"Terminal voltage [V]\"], to_format=\"csv\")\n",
    "# matlab needs names without spaces\n",
    "sol.save_data(\"sol_data.mat\", [\"Current [A]\", \"Terminal voltage [V]\"], to_format=\"matlab\",\n",
    "              short_names={\"Current [A]\": \"I\", \"Terminal voltage [V]\": \"V\"})"
   ]
  },
  {
   "cell_type": "markdown",
   "metadata": {},
   "source": [
    "在本笔记本中，我们展示了如何提取和存储Pybam模拟的输出。接下来，在教程7中，我们将演示如何更改模型选项。"
   ]
  },
  {
   "cell_type": "markdown",
   "metadata": {},
   "source": [
    "在完成之前，我们将删除保存的数据文件，以便保留找到的目录"
   ]
  },
  {
   "cell_type": "code",
   "execution_count": 19,
   "metadata": {},
   "outputs": [],
   "source": [
    "import os\n",
    "os.remove(\"SPMe.pkl\")\n",
    "os.remove(\"SPMe_sol.pkl\")\n",
    "os.remove(\"sol_data.pkl\")\n",
    "os.remove(\"sol_data.csv\")\n",
    "os.remove(\"sol_data.mat\")"
   ]
  },
  {
   "cell_type": "code",
   "execution_count": null,
   "metadata": {},
   "outputs": [],
   "source": []
  }
 ],
 "metadata": {
  "interpreter": {
   "hash": "9b04a640c22d8bcecd319ad1f5e650d2be704cc4469a07968663054afe80c9a6"
  },
  "kernelspec": {
   "display_name": "Python 3.9.10 64-bit",
   "language": "python",
   "name": "python3"
  },
  "language_info": {
   "codemirror_mode": {
    "name": "ipython",
    "version": 3
   },
   "file_extension": ".py",
   "mimetype": "text/x-python",
   "name": "python",
   "nbconvert_exporter": "python",
   "pygments_lexer": "ipython3",
   "version": "3.9.10"
  },
  "orig_nbformat": 4
 },
 "nbformat": 4,
 "nbformat_minor": 2
}
